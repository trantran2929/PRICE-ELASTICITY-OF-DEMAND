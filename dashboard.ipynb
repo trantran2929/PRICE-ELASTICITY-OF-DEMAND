{
 "cells": [
  {
   "cell_type": "code",
   "execution_count": 1,
   "id": "059fe885",
   "metadata": {},
   "outputs": [
    {
     "name": "stdout",
     "output_type": "stream",
     "text": [
      "Cột trong file Store Sales: ['Store_Number', 'SKU_Coded', 'Product_Class_Code', 'Sold_Date', 'Qty_Sold', 'Total_Sale_Value', 'On_Promo']\n",
      "\n",
      "Dữ liệu mẫu (5 dòng đầu):\n",
      "    Store_Number  SKU_Coded  Product_Class_Code   Sold_Date  Qty_Sold  \\\n",
      "0          1320    6172800               22875  2021-11-02         3   \n",
      "1          2310    6172800               22875  2021-11-03         1   \n",
      "2          3080    6172800               22875  2021-11-03         1   \n",
      "3          2310    6172800               22875  2021-11-06         1   \n",
      "4          4840    6172800               22875  2021-11-07         1   \n",
      "\n",
      "   Total_Sale_Value  On_Promo  \n",
      "0         56.849998         0  \n",
      "1         18.950001         0  \n",
      "2         18.950001         0  \n",
      "3         18.950001         0  \n",
      "4         18.950001         0  \n"
     ]
    }
   ],
   "source": [
    "import pandas as pd\n",
    "\n",
    "file_path = r'C:\\Users\\tranb\\OneDrive\\Desktop\\năm 4\\DP\\Store_Sales_Price_Elasticity_Promotions_Data.parquet'\n",
    "try:\n",
    "    df = pd.read_parquet(file_path)\n",
    "    print(\"Cột trong file Store Sales:\", df.columns.tolist())\n",
    "    print(\"\\nDữ liệu mẫu (5 dòng đầu):\\n\", df.head())\n",
    "except Exception as e:\n",
    "    print(\"Lỗi đọc file:\", e)"
   ]
  }
 ],
 "metadata": {
  "kernelspec": {
   "display_name": "Python 3",
   "language": "python",
   "name": "python3"
  },
  "language_info": {
   "codemirror_mode": {
    "name": "ipython",
    "version": 3
   },
   "file_extension": ".py",
   "mimetype": "text/x-python",
   "name": "python",
   "nbconvert_exporter": "python",
   "pygments_lexer": "ipython3",
   "version": "3.10.11"
  }
 },
 "nbformat": 4,
 "nbformat_minor": 5
}
